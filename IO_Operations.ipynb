{
 "cells": [
  {
   "cell_type": "code",
   "execution_count": 1,
   "metadata": {},
   "outputs": [
    {
     "name": "stdout",
     "output_type": "stream",
     "text": [
      "Assalamu Alykum\n"
     ]
    }
   ],
   "source": [
    "print(\"Assalamu Alykum\")"
   ]
  },
  {
   "cell_type": "code",
   "execution_count": 6,
   "metadata": {},
   "outputs": [
    {
     "name": "stdout",
     "output_type": "stream",
     "text": [
      "Hello Im Abid\n",
      "code with me for free\n",
      "\n"
     ]
    }
   ],
   "source": [
    "with open(\"hello.txt\",\"r\") as f:\n",
    "    data = f.read()\n",
    "    print(data)\n",
    "import os\n",
    "os.remove(\"hello.txt\")"
   ]
  },
  {
   "cell_type": "code",
   "execution_count": 10,
   "metadata": {},
   "outputs": [],
   "source": [
    "with open(\"sample.txt\",'w') as f:\n",
    "    f.write(\"I am Abid \\nLearn with me\")"
   ]
  },
  {
   "cell_type": "code",
   "execution_count": 11,
   "metadata": {},
   "outputs": [],
   "source": [
    "# replacing a specific word\n",
    "with open(\"sample.txt\",'r') as f:\n",
    "    data = f.read()\n",
    "new_data = data.replace(\"me\",\"Abid\")\n",
    "with open(\"sample.txt\",'w') as f:\n",
    "    f.write(new_data)"
   ]
  },
  {
   "cell_type": "code",
   "execution_count": 16,
   "metadata": {},
   "outputs": [
    {
     "name": "stdout",
     "output_type": "stream",
     "text": [
      "found\n"
     ]
    }
   ],
   "source": [
    "# finding a word in a file\n",
    "with open(\"sample.txt\",'r') as f:\n",
    "    data = f.read()\n",
    "    if(data.find(\"Abid\") != -1):\n",
    "        print(\"found\")\n",
    "    else:\n",
    "        print(\"Not found\")"
   ]
  },
  {
   "cell_type": "code",
   "execution_count": 20,
   "metadata": {},
   "outputs": [
    {
     "name": "stdout",
     "output_type": "stream",
     "text": [
      "2\n"
     ]
    }
   ],
   "source": [
    "# find Line where word exists\n",
    "def chkWordLine():\n",
    "    word = \"Learn\"\n",
    "    data = True\n",
    "    line_no = 1\n",
    "    with open(\"sample.txt\",'r') as f:\n",
    "        while data:\n",
    "            data = f.readline()\n",
    "            if(word in data):\n",
    "                print(line_no)\n",
    "                return \n",
    "            line_no+=1\n",
    "    return -1\n",
    "chkWordLine()\n"
   ]
  },
  {
   "cell_type": "code",
   "execution_count": 26,
   "metadata": {},
   "outputs": [
    {
     "name": "stdout",
     "output_type": "stream",
     "text": [
      "1\n",
      "2\n",
      "3\n",
      "4\n",
      "5\n",
      "6\n",
      "7\n",
      "even numbers =  4\n"
     ]
    }
   ],
   "source": [
    "# no of even numbers in file\n",
    "count = 0\n",
    "with open(\"num.txt\",'r') as f:\n",
    "    data = f.read()\n",
    "    num = ''\n",
    "    for i in range(len(data)):\n",
    "        if(data[i] == ','):\n",
    "            print(num)\n",
    "            num = ''\n",
    "        else:\n",
    "            num += data[i]\n",
    "        \n",
    "    \n",
    "# 2nd method\n",
    "    nums = data.split(\",\")\n",
    "    for val in nums:\n",
    "        if(int(val)%2 == 0):\n",
    "            count+=1\n",
    "print(\"even numbers = \",count)"
   ]
  },
  {
   "cell_type": "code",
   "execution_count": null,
   "metadata": {},
   "outputs": [],
   "source": []
  }
 ],
 "metadata": {
  "kernelspec": {
   "display_name": "Python 3",
   "language": "python",
   "name": "python3"
  },
  "language_info": {
   "codemirror_mode": {
    "name": "ipython",
    "version": 3
   },
   "file_extension": ".py",
   "mimetype": "text/x-python",
   "name": "python",
   "nbconvert_exporter": "python",
   "pygments_lexer": "ipython3",
   "version": "3.12.3"
  }
 },
 "nbformat": 4,
 "nbformat_minor": 2
}
